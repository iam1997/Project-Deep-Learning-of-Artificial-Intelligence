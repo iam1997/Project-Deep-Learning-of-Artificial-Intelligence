{
  "nbformat": 4,
  "nbformat_minor": 0,
  "metadata": {
    "colab": {
      "name": "Project_DL.ipynb",
      "provenance": [],
      "authorship_tag": "ABX9TyPD0asJfhFjWJgKtcuUSTW9",
      "include_colab_link": true
    },
    "kernelspec": {
      "name": "python3",
      "display_name": "Python 3"
    },
    "language_info": {
      "name": "python"
    }
  },
  "cells": [
    {
      "cell_type": "markdown",
      "metadata": {
        "id": "view-in-github",
        "colab_type": "text"
      },
      "source": [
        "<a href=\"https://colab.research.google.com/github/iam1997/Project-Deep-Learning-of-Artificial-Intelligence/blob/main/Project_DL_V4.ipynb\" target=\"_parent\"><img src=\"https://colab.research.google.com/assets/colab-badge.svg\" alt=\"Open In Colab\"/></a>"
      ]
    },
    {
      "cell_type": "code",
      "metadata": {
        "id": "3MsmRBMxJTlc"
      },
      "source": [
        "# Import Libraries\n",
        "import tensorflow as tf\n",
        "import numpy as np\n",
        "import pandas as pd\n",
        "import matplotlib.pyplot as plt\n",
        "import random\n",
        "from sklearn.datasets import load_digits\n",
        "from sklearn.model_selection import train_test_split"
      ],
      "execution_count": 53,
      "outputs": []
    },
    {
      "cell_type": "markdown",
      "metadata": {
        "id": "jWlaOTQhcydO"
      },
      "source": [
        "### **Define all functions**"
      ]
    },
    {
      "cell_type": "code",
      "metadata": {
        "id": "lQ_9KgYfinC-"
      },
      "source": [
        "def sigmoid(Z):\n",
        "    \"\"\"\n",
        "    Implements the sigmoid activation in numpy\n",
        "    \n",
        "    Arguments:\n",
        "    Z -- numpy array of any shape\n",
        "    \n",
        "    Returns:\n",
        "    A -- output of sigmoid(z), same shape as Z\n",
        "    cache -- returns Z as well, useful during backpropagation\n",
        "    \"\"\"\n",
        "    \n",
        "    A = 1/(1+np.exp(-Z))\n",
        "    cache = Z\n",
        "    \n",
        "    return A, cache\n",
        "\n",
        "def relu(Z):\n",
        "    \"\"\"\n",
        "    Implement the RELU function.\n",
        "\n",
        "    Arguments:\n",
        "    Z -- Output of the linear layer, of any shape\n",
        "\n",
        "    Returns:\n",
        "    A -- Post-activation parameter, of the same shape as Z\n",
        "    cache -- a python dictionary containing \"A\" ; stored for computing the backward pass efficiently\n",
        "    \"\"\"\n",
        "    \n",
        "    A = np.maximum(0,Z)\n",
        "    \n",
        "    assert(A.shape == Z.shape)\n",
        "    \n",
        "    cache = Z \n",
        "    return A, cache\n",
        "\n",
        "\n",
        "def relu_backward(dA, cache):\n",
        "    \"\"\"\n",
        "    Implement the backward propagation for a single RELU unit.\n",
        "\n",
        "    Arguments:\n",
        "    dA -- post-activation gradient, of any shape\n",
        "    cache -- 'Z' where we store for computing backward propagation efficiently\n",
        "\n",
        "    Returns:\n",
        "    dZ -- Gradient of the cost with respect to Z\n",
        "    \"\"\"\n",
        "    \n",
        "    Z = cache\n",
        "    dZ = np.array(dA, copy=True) # just converting dz to a correct object.\n",
        "    \n",
        "    # When z <= 0, you should set dz to 0 as well. \n",
        "    dZ[Z <= 0] = 0\n",
        "    \n",
        "    assert (dZ.shape == Z.shape)\n",
        "    \n",
        "    return dZ\n",
        "\n",
        "def sigmoid_backward(dA, cache):\n",
        "    \"\"\"\n",
        "    Implement the backward propagation for a single SIGMOID unit.\n",
        "\n",
        "    Arguments:\n",
        "    dA -- post-activation gradient, of any shape\n",
        "    cache -- 'Z' where we store for computing backward propagation efficiently\n",
        "\n",
        "    Returns:\n",
        "    dZ -- Gradient of the cost with respect to Z\n",
        "    \"\"\"\n",
        "    \n",
        "    Z = cache\n",
        "    \n",
        "    s = 1/(1+np.exp(-Z))\n",
        "    dZ = dA * s * (1-s)\n",
        "    \n",
        "    assert (dZ.shape == Z.shape)\n",
        "    \n",
        "    return dZ\n",
        "\n",
        "def initialize_parameters(n_x, n_h, n_y):\n",
        "    \"\"\"\n",
        "    Argument:\n",
        "    n_x -- size of the input layer\n",
        "    n_h -- size of the hidden layer\n",
        "    n_y -- size of the output layer\n",
        "    \n",
        "    Returns:\n",
        "    parameters -- python dictionary containing your parameters:\n",
        "                    W1 -- weight matrix of shape (n_h, n_x)\n",
        "                    b1 -- bias vector of shape (n_h, 1)\n",
        "                    W2 -- weight matrix of shape (n_y, n_h)\n",
        "                    b2 -- bias vector of shape (n_y, 1)\n",
        "    \"\"\"\n",
        "    \n",
        "    np.random.seed(1)\n",
        "    \n",
        "    W1 = np.random.randn(n_h, n_x)*0.01\n",
        "    b1 = np.zeros((n_h, 1))\n",
        "    W2 = np.random.randn(n_y, n_h)*0.01\n",
        "    b2 = np.zeros((n_y, 1))\n",
        "    \n",
        "    assert(W1.shape == (n_h, n_x))\n",
        "    assert(b1.shape == (n_h, 1))\n",
        "    assert(W2.shape == (n_y, n_h))\n",
        "    assert(b2.shape == (n_y, 1))\n",
        "    \n",
        "    parameters = {\"W1\": W1,\n",
        "                  \"b1\": b1,\n",
        "                  \"W2\": W2,\n",
        "                  \"b2\": b2}\n",
        "    \n",
        "    return parameters     \n",
        "\n",
        "\n",
        "def initialize_parameters_deep(layer_dims):\n",
        "    \"\"\"\n",
        "    Arguments:\n",
        "    layer_dims -- python array (list) containing the dimensions of each layer in our network\n",
        "    \n",
        "    Returns:\n",
        "    parameters -- python dictionary containing your parameters \"W1\", \"b1\", ..., \"WL\", \"bL\":\n",
        "                    Wl -- weight matrix of shape (layer_dims[l], layer_dims[l-1])\n",
        "                    bl -- bias vector of shape (layer_dims[l], 1)\n",
        "    \"\"\"\n",
        "    \n",
        "    np.random.seed(1)\n",
        "    parameters = {}\n",
        "    L = len(layer_dims)            # number of layers in the network\n",
        "\n",
        "    for l in range(1, L):\n",
        "        parameters['W' + str(l)] = np.random.randn(layer_dims[l], layer_dims[l-1]) / np.sqrt(layer_dims[l-1]) #*0.01\n",
        "        parameters['b' + str(l)] = np.zeros((layer_dims[l], 1))\n",
        "        \n",
        "        assert(parameters['W' + str(l)].shape == (layer_dims[l], layer_dims[l-1]))\n",
        "        assert(parameters['b' + str(l)].shape == (layer_dims[l], 1))\n",
        "\n",
        "        \n",
        "    return parameters\n",
        "\n",
        "def linear_forward(A, W, b):\n",
        "    \"\"\"\n",
        "    Implement the linear part of a layer's forward propagation.\n",
        "\n",
        "    Arguments:\n",
        "    A -- activations from previous layer (or input data): (size of previous layer, number of examples)\n",
        "    W -- weights matrix: numpy array of shape (size of current layer, size of previous layer)\n",
        "    b -- bias vector, numpy array of shape (size of the current layer, 1)\n",
        "\n",
        "    Returns:\n",
        "    Z -- the input of the activation function, also called pre-activation parameter \n",
        "    cache -- a python dictionary containing \"A\", \"W\" and \"b\" ; stored for computing the backward pass efficiently\n",
        "    \"\"\"\n",
        "    \n",
        "    Z = W.dot(A) + b\n",
        "    \n",
        "    assert(Z.shape == (W.shape[0], A.shape[1]))\n",
        "    cache = (A, W, b)\n",
        "    \n",
        "    return Z, cache\n",
        "\n",
        "def linear_activation_forward(A_prev, W, b, activation):\n",
        "    \"\"\"\n",
        "    Implement the forward propagation for the LINEAR->ACTIVATION layer\n",
        "\n",
        "    Arguments:\n",
        "    A_prev -- activations from previous layer (or input data): (size of previous layer, number of examples)\n",
        "    W -- weights matrix: numpy array of shape (size of current layer, size of previous layer)\n",
        "    b -- bias vector, numpy array of shape (size of the current layer, 1)\n",
        "    activation -- the activation to be used in this layer, stored as a text string: \"sigmoid\" or \"relu\"\n",
        "\n",
        "    Returns:\n",
        "    A -- the output of the activation function, also called the post-activation value \n",
        "    cache -- a python dictionary containing \"linear_cache\" and \"activation_cache\";\n",
        "             stored for computing the backward pass efficiently\n",
        "    \"\"\"\n",
        "    \n",
        "    if activation == \"sigmoid\":\n",
        "        # Inputs: \"A_prev, W, b\". Outputs: \"A, activation_cache\".\n",
        "        Z, linear_cache = linear_forward(A_prev, W, b)\n",
        "        A, activation_cache = sigmoid(Z)\n",
        "    \n",
        "    elif activation == \"relu\":\n",
        "        # Inputs: \"A_prev, W, b\". Outputs: \"A, activation_cache\".\n",
        "        Z, linear_cache = linear_forward(A_prev, W, b)\n",
        "        A, activation_cache = relu(Z)\n",
        "    \n",
        "    assert (A.shape == (W.shape[0], A_prev.shape[1]))\n",
        "    cache = (linear_cache, activation_cache)\n",
        "\n",
        "    return A, cache\n",
        "\n",
        "def L_model_forward(X, parameters):\n",
        "    \"\"\"\n",
        "    Implement forward propagation for the [LINEAR->RELU]*(L-1)->LINEAR->SIGMOID computation\n",
        "    \n",
        "    Arguments:\n",
        "    X -- data, numpy array of shape (input size, number of examples)\n",
        "    parameters -- output of initialize_parameters_deep()\n",
        "    \n",
        "    Returns:\n",
        "    AL -- last post-activation value\n",
        "    caches -- list of caches containing:\n",
        "                every cache of linear_relu_forward() (there are L-1 of them, indexed from 0 to L-2)\n",
        "                the cache of linear_sigmoid_forward() (there is one, indexed L-1)\n",
        "    \"\"\"\n",
        "\n",
        "    caches = []\n",
        "    A = X\n",
        "    L = len(parameters) // 2                  # number of layers in the neural network\n",
        "    \n",
        "    # Implement [LINEAR -> RELU]*(L-1). Add \"cache\" to the \"caches\" list.\n",
        "    for l in range(1, L):\n",
        "        A_prev = A \n",
        "        A, cache = linear_activation_forward(A_prev, parameters['W' + str(l)], parameters['b' + str(l)], activation = \"relu\")\n",
        "        caches.append(cache)\n",
        "    \n",
        "    # Implement LINEAR -> SIGMOID. Add \"cache\" to the \"caches\" list.\n",
        "    AL, cache = linear_activation_forward(A, parameters['W' + str(L)], parameters['b' + str(L)], activation = \"sigmoid\")\n",
        "    caches.append(cache)\n",
        "    \n",
        "    assert(AL.shape == (1,X.shape[1]))\n",
        "            \n",
        "    return AL, caches\n",
        "\n",
        "def compute_cost(AL, Y):\n",
        "    \"\"\"\n",
        "    Implement the cost function defined by equation (7).\n",
        "\n",
        "    Arguments:\n",
        "    AL -- probability vector corresponding to your label predictions, shape (1, number of examples)\n",
        "    Y -- true \"label\" vector (for example: containing 0 if non-cat, 1 if cat), shape (1, number of examples)\n",
        "\n",
        "    Returns:\n",
        "    cost -- cross-entropy cost\n",
        "    \"\"\"\n",
        "    \n",
        "    m = Y.shape[1]\n",
        "\n",
        "    # Compute loss from aL and y.\n",
        "    cost = (1./m) * (-np.dot(Y,np.log(AL).T) - np.dot(1-Y, np.log(1-AL).T))\n",
        "    \n",
        "    cost = np.squeeze(cost)      # To make sure your cost's shape is what we expect (e.g. this turns [[17]] into 17).\n",
        "    assert(cost.shape == ())\n",
        "    \n",
        "    return cost\n",
        "\n",
        "def linear_backward(dZ, cache):\n",
        "    \"\"\"\n",
        "    Implement the linear portion of backward propagation for a single layer (layer l)\n",
        "\n",
        "    Arguments:\n",
        "    dZ -- Gradient of the cost with respect to the linear output (of current layer l)\n",
        "    cache -- tuple of values (A_prev, W, b) coming from the forward propagation in the current layer\n",
        "\n",
        "    Returns:\n",
        "    dA_prev -- Gradient of the cost with respect to the activation (of the previous layer l-1), same shape as A_prev\n",
        "    dW -- Gradient of the cost with respect to W (current layer l), same shape as W\n",
        "    db -- Gradient of the cost with respect to b (current layer l), same shape as b\n",
        "    \"\"\"\n",
        "    A_prev, W, b = cache\n",
        "    m = A_prev.shape[1]\n",
        "\n",
        "    dW = 1./m * np.dot(dZ,A_prev.T)\n",
        "    db = 1./m * np.sum(dZ, axis = 1, keepdims = True)\n",
        "    dA_prev = np.dot(W.T,dZ)\n",
        "    \n",
        "    assert (dA_prev.shape == A_prev.shape)\n",
        "    assert (dW.shape == W.shape)\n",
        "    assert (db.shape == b.shape)\n",
        "    \n",
        "    return dA_prev, dW, db\n",
        "\n",
        "def linear_activation_backward(dA, cache, activation):\n",
        "    \"\"\"\n",
        "    Implement the backward propagation for the LINEAR->ACTIVATION layer.\n",
        "    \n",
        "    Arguments:\n",
        "    dA -- post-activation gradient for current layer l \n",
        "    cache -- tuple of values (linear_cache, activation_cache) we store for computing backward propagation efficiently\n",
        "    activation -- the activation to be used in this layer, stored as a text string: \"sigmoid\" or \"relu\"\n",
        "    \n",
        "    Returns:\n",
        "    dA_prev -- Gradient of the cost with respect to the activation (of the previous layer l-1), same shape as A_prev\n",
        "    dW -- Gradient of the cost with respect to W (current layer l), same shape as W\n",
        "    db -- Gradient of the cost with respect to b (current layer l), same shape as b\n",
        "    \"\"\"\n",
        "    linear_cache, activation_cache = cache\n",
        "    \n",
        "    if activation == \"relu\":\n",
        "        dZ = relu_backward(dA, activation_cache)\n",
        "        dA_prev, dW, db = linear_backward(dZ, linear_cache)\n",
        "        \n",
        "    elif activation == \"sigmoid\":\n",
        "        dZ = sigmoid_backward(dA, activation_cache)\n",
        "        dA_prev, dW, db = linear_backward(dZ, linear_cache)\n",
        "    \n",
        "    return dA_prev, dW, db\n",
        "\n",
        "def L_model_backward(AL, Y, caches):\n",
        "    \"\"\"\n",
        "    Implement the backward propagation for the [LINEAR->RELU] * (L-1) -> LINEAR -> SIGMOID group\n",
        "    \n",
        "    Arguments:\n",
        "    AL -- probability vector, output of the forward propagation (L_model_forward())\n",
        "    Y -- true \"label\" vector (containing 0 if non-cat, 1 if cat)\n",
        "    caches -- list of caches containing:\n",
        "                every cache of linear_activation_forward() with \"relu\" (there are (L-1) or them, indexes from 0 to L-2)\n",
        "                the cache of linear_activation_forward() with \"sigmoid\" (there is one, index L-1)\n",
        "    \n",
        "    Returns:\n",
        "    grads -- A dictionary with the gradients\n",
        "             grads[\"dA\" + str(l)] = ... \n",
        "             grads[\"dW\" + str(l)] = ...\n",
        "             grads[\"db\" + str(l)] = ... \n",
        "    \"\"\"\n",
        "    grads = {}\n",
        "    L = len(caches) # the number of layers\n",
        "    m = AL.shape[1]\n",
        "    Y = Y.reshape(AL.shape) # after this line, Y is the same shape as AL\n",
        "    \n",
        "    # Initializing the backpropagation\n",
        "    dAL = - (np.divide(Y, AL) - np.divide(1 - Y, 1 - AL))\n",
        "    \n",
        "    # Lth layer (SIGMOID -> LINEAR) gradients. Inputs: \"AL, Y, caches\". Outputs: \"grads[\"dAL\"], grads[\"dWL\"], grads[\"dbL\"]\n",
        "    current_cache = caches[L-1]\n",
        "    grads[\"dA\" + str(L-1)], grads[\"dW\" + str(L)], grads[\"db\" + str(L)] = linear_activation_backward(dAL, current_cache, activation = \"sigmoid\")\n",
        "    \n",
        "    for l in reversed(range(L-1)):\n",
        "        # lth layer: (RELU -> LINEAR) gradients.\n",
        "        current_cache = caches[l]\n",
        "        dA_prev_temp, dW_temp, db_temp = linear_activation_backward(grads[\"dA\" + str(l + 1)], current_cache, activation = \"relu\")\n",
        "        grads[\"dA\" + str(l)] = dA_prev_temp\n",
        "        grads[\"dW\" + str(l + 1)] = dW_temp\n",
        "        grads[\"db\" + str(l + 1)] = db_temp\n",
        "\n",
        "    return grads\n",
        "\n",
        "def update_parameters(parameters, grads, learning_rate):\n",
        "    \"\"\"\n",
        "    Update parameters using gradient descent\n",
        "    \n",
        "    Arguments:\n",
        "    parameters -- python dictionary containing your parameters \n",
        "    grads -- python dictionary containing your gradients, output of L_model_backward\n",
        "    \n",
        "    Returns:\n",
        "    parameters -- python dictionary containing your updated parameters \n",
        "                  parameters[\"W\" + str(l)] = ... \n",
        "                  parameters[\"b\" + str(l)] = ...\n",
        "    \"\"\"\n",
        "    \n",
        "    L = len(parameters) // 2 # number of layers in the neural network\n",
        "\n",
        "    # Update rule for each parameter. Use a for loop.\n",
        "    for l in range(L):\n",
        "        parameters[\"W\" + str(l+1)] = parameters[\"W\" + str(l+1)] - learning_rate * grads[\"dW\" + str(l+1)]\n",
        "        parameters[\"b\" + str(l+1)] = parameters[\"b\" + str(l+1)] - learning_rate * grads[\"db\" + str(l+1)]\n",
        "        \n",
        "    return parameters\n",
        "\n",
        "def predict(X, y, parameters, test):\n",
        "    \"\"\"\n",
        "    This function is used to predict the results of a  L-layer neural network.\n",
        "    \n",
        "    Arguments:\n",
        "    X -- data set of examples you would like to label\n",
        "    parameters -- parameters of the trained model\n",
        "    \n",
        "    Returns:\n",
        "    p -- predictions for the given dataset X\n",
        "    \"\"\"\n",
        "    \n",
        "    m = X.shape[1]\n",
        "    n = len(parameters) // 2 # number of layers in the neural network\n",
        "    p = np.zeros((1,m))\n",
        "    \n",
        "    # Forward propagation\n",
        "    probas, caches = L_model_forward(X, parameters)\n",
        "\n",
        "    \n",
        "    # convert probas to 0/1 predictions\n",
        "    for i in range(0, probas.shape[1]):\n",
        "        if probas[0,i] > 0.9:\n",
        "            p[0,i] = 1\n",
        "        else:\n",
        "            p[0,i] = 0\n",
        "\n",
        "  \n",
        "    acurracy = np.sum((p == y)/m)\n",
        "    if test == True:\n",
        "      print(\"Accuracy of the training set: \"  + str(np.sum((p == y)/m)))\n",
        "    else:\n",
        "      print(\"Accuracy of the test set:     \"  + str(np.sum((p == y)/m)) + '\\n')\n",
        "\n",
        "    return p, acurracy\n",
        "\n",
        "def print_mislabeled_images(classes, X, y, p):\n",
        "    \"\"\"\n",
        "    Plots images where predictions and truth were different.\n",
        "    X -- dataset\n",
        "    y -- true labels\n",
        "    p -- predictions\n",
        "    \"\"\"\n",
        "    a = p + y\n",
        "    mislabeled_indices = np.asarray(np.where(a == 1))\n",
        "    plt.rcParams['figure.figsize'] = (40.0, 40.0) # set default size of plots\n",
        "    num_images = len(mislabeled_indices[0])\n",
        "    for i in range(num_images):\n",
        "        index = mislabeled_indices[1][i]\n",
        "        \n",
        "        plt.subplot(2, num_images, i + 1)\n",
        "        plt.imshow(X[:,index].reshape(64,64,3), interpolation='nearest')\n",
        "        plt.axis('off')\n",
        "        plt.title(\"Prediction: \" + classes[int(p[0,index])].decode(\"utf-8\") + \" \\n Class: \" + classes[y[0,index]].decode(\"utf-8\"))\n",
        "\n",
        "def two_layer_model(X, Y, layers_dims, learning_rate = 0.0075, num_iterations = 3000, print_cost=False):\n",
        "    \"\"\"\n",
        "    Implements a two-layer neural network: LINEAR->RELU->LINEAR->SIGMOID.\n",
        "    \n",
        "    Arguments:\n",
        "    X -- input data, of shape (n_x, number of examples)\n",
        "    Y -- true \"label\" vector (containing 0 if cat, 1 if non-cat), of shape (1, number of examples)\n",
        "    layers_dims -- dimensions of the layers (n_x, n_h, n_y)\n",
        "    num_iterations -- number of iterations of the optimization loop\n",
        "    learning_rate -- learning rate of the gradient descent update rule\n",
        "    print_cost -- If set to True, this will print the cost every 100 iterations \n",
        "    \n",
        "    Returns:\n",
        "    parameters -- a dictionary containing W1, W2, b1, and b2\n",
        "    \"\"\"\n",
        "    \n",
        "    np.random.seed(1)\n",
        "    grads = {}\n",
        "    costs = []                              # to keep track of the cost\n",
        "    m = X.shape[1]                           # number of examples\n",
        "    (n_x, n_h, n_y) = layers_dims\n",
        "    \n",
        "    # Initialize parameters dictionary, by calling one of the functions you'd previously implemented\n",
        "    ### START CODE HERE ### (≈ 1 line of code)\n",
        "    parameters = initialize_parameters(n_x, n_h, n_y)\n",
        "    ### END CODE HERE ###\n",
        "    \n",
        "    # Get W1, b1, W2 and b2 from the dictionary parameters.\n",
        "    W1 = parameters[\"W1\"]\n",
        "    b1 = parameters[\"b1\"]\n",
        "    W2 = parameters[\"W2\"]\n",
        "    b2 = parameters[\"b2\"]\n",
        "    \n",
        "    # Loop (gradient descent)\n",
        "\n",
        "    for i in range(0, num_iterations):\n",
        "\n",
        "        # Forward propagation: LINEAR -> RELU -> LINEAR -> SIGMOID. Inputs: \"X, W1, b1, W2, b2\". Output: \"A1, cache1, A2, cache2\".\n",
        "        ### START CODE HERE ### (≈ 2 lines of code)\n",
        "        A1, cache1 = linear_activation_forward(X, W1, b1, activation= \"relu\")\n",
        "        A2, cache2 = linear_activation_forward(A1, W2, b2, activation= \"sigmoid\")\n",
        "        ### END CODE HERE ###\n",
        "        \n",
        "        # Compute cost\n",
        "        ### START CODE HERE ### (≈ 1 line of code)\n",
        "        cost = compute_cost(A2, Y)\n",
        "        ### END CODE HERE ###\n",
        "        \n",
        "        # Initializing backward propagation\n",
        "        dA2 = - (np.divide(Y, A2) - np.divide(1 - Y, 1 - A2))\n",
        "        \n",
        "        # Backward propagation. Inputs: \"dA2, cache2, cache1\". Outputs: \"dA1, dW2, db2; also dA0 (not used), dW1, db1\".\n",
        "        ### START CODE HERE ### (≈ 2 lines of code)\n",
        "        dA1, dW2, db2 = linear_activation_backward(dA2, cache2, activation = \"sigmoid\")\n",
        "        dA0, dW1, db1 = linear_activation_backward(dA1, cache1, activation = \"relu\")\n",
        "        ### END CODE HERE ###\n",
        "        \n",
        "        # Set grads['dWl'] to dW1, grads['db1'] to db1, grads['dW2'] to dW2, grads['db2'] to db2\n",
        "        grads['dW1'] = dW1\n",
        "        grads['db1'] = db1\n",
        "        grads['dW2'] = dW2\n",
        "        grads['db2'] = db2\n",
        "        \n",
        "        # Update parameters.\n",
        "        ### START CODE HERE ### (approx. 1 line of code)\n",
        "        parameters = update_parameters(parameters, grads, learning_rate)\n",
        "        ### END CODE HERE ###\n",
        "\n",
        "        # Retrieve W1, b1, W2, b2 from parameters\n",
        "        W1 = parameters[\"W1\"]\n",
        "        b1 = parameters[\"b1\"]\n",
        "        W2 = parameters[\"W2\"]\n",
        "        b2 = parameters[\"b2\"]\n",
        "        \n",
        "        # Print the cost every 100 training example\n",
        "        if print_cost and i % 100 == 0:\n",
        "            print(\"Cost after iteration {}: {}\".format(i, np.squeeze(cost)))\n",
        "        if print_cost and i % 100 == 0:\n",
        "            costs.append(cost)\n",
        "       \n",
        "    # plot the cost\n",
        "\n",
        "    plt.plot(np.squeeze(costs))\n",
        "    plt.ylabel('cost')\n",
        "    plt.xlabel('iterations (per tens)')\n",
        "    plt.title(\"Learning rate =\" + str(learning_rate))\n",
        "    plt.show()\n",
        "    \n",
        "    return parameters\n",
        "\n",
        "def L_layer_model(X, Y, layers_dims, learning_rate = 0.0075, num_iterations = 3000, print_cost=False):\n",
        "    \"\"\"\n",
        "    Implements a L-layer neural network: [LINEAR->RELU]*(L-1)->LINEAR->SIGMOID.\n",
        "    \n",
        "    Arguments:\n",
        "    X -- data, numpy array of shape (number of examples, num_px * num_px * 3)\n",
        "    Y -- true \"label\" vector (containing 0 if cat, 1 if non-cat), of shape (1, number of examples)\n",
        "    layers_dims -- list containing the input size and each layer size, of length (number of layers + 1).\n",
        "    learning_rate -- learning rate of the gradient descent update rule\n",
        "    num_iterations -- number of iterations of the optimization loop\n",
        "    print_cost -- if True, it prints the cost every 100 steps\n",
        "    \n",
        "    Returns:\n",
        "    parameters -- parameters learnt by the model. They can then be used to predict.\n",
        "    \"\"\"\n",
        "\n",
        "    np.random.seed(1)\n",
        "    costs = []                         # keep track of cost\n",
        "    \n",
        "    # Parameters initialization.\n",
        "    parameters = initialize_parameters_deep(layers_dims)\n",
        "    print('Layer dimensions: ' + str(layers_dims))\n",
        "    print('Learning Rate   : ' + str(learning_rate))\n",
        "    \n",
        "    # Loop (gradient descent)\n",
        "    for i in range(0, num_iterations):\n",
        "\n",
        "        # Forward propagation: [LINEAR -> RELU]*(L-1) -> LINEAR -> SIGMOID.\n",
        "        AL, caches = L_model_forward(X, parameters)\n",
        "        \n",
        "        # Compute cost.\n",
        "        cost = compute_cost(AL, Y)\n",
        "    \n",
        "        # Backward propagation\n",
        "        grads = L_model_backward(AL, Y, caches)\n",
        " \n",
        "        # Update parameters\n",
        "        parameters = update_parameters(parameters, grads, learning_rate)\n",
        "       \n",
        "        # Print the cost every 100 training example\n",
        "        if print_cost and i % 100 == 0:\n",
        "            print (\"Cost after iteration %i: %f\" %(i, cost))\n",
        "        if print_cost and i % 100 == 0:\n",
        "            costs.append(cost)\n",
        "            \n",
        "    # Plot the cost\n",
        "    plt.plot(np.squeeze(costs))\n",
        "    plt.ylabel('cost')\n",
        "    plt.xlabel('iterations (per tens)')\n",
        "    plt.title(\"Learning rate =\" + str(learning_rate))\n",
        "    plt.show()\n",
        "    \n",
        "    return parameters\n",
        "\n",
        "def plotAcurracy(y_axis1, y_axis2, title):\n",
        "  plt.figure(figsize=(16, 3))\n",
        "  line1, = plt.plot(np.arange(len(y_axis1)),y_axis1, label = 'Training acurracy')\n",
        "  line2, = plt.plot(np.arange(len(y_axis2)),y_axis2, label = 'Test acurracy')\n",
        "  plt.legend(handles = [line1, line2])\n",
        "  plt.title(title)\n",
        "  plt.xlabel('Iteration')\n",
        "  plt.ylabel('Acurracy')\n",
        "  plt.show()\n"
      ],
      "execution_count": 66,
      "outputs": []
    },
    {
      "cell_type": "markdown",
      "metadata": {
        "id": "IHKdP87sc_No"
      },
      "source": [
        "### **Import the MNIST-Dataset**"
      ]
    },
    {
      "cell_type": "code",
      "metadata": {
        "id": "S-yG_sSeloWy"
      },
      "source": [
        "# Import the MNIST-Dataset\n",
        "digits = load_digits()"
      ],
      "execution_count": 56,
      "outputs": []
    },
    {
      "cell_type": "code",
      "metadata": {
        "id": "xICA1lrCv0Js"
      },
      "source": [
        "#Split the dataset into training and test examples\n",
        "X_train, X_test, y_train, y_test = train_test_split(digits.data, digits.target, test_size= 0.2, random_state= 123)"
      ],
      "execution_count": 57,
      "outputs": []
    },
    {
      "cell_type": "code",
      "metadata": {
        "id": "Vos2GPdtd09o"
      },
      "source": [
        "# Convert the tuples to numpy arrays\n",
        "X_train = np.array(X_train)\n",
        "X_test = np.array(X_test)\n",
        "y_train = np.array(y_train)\n",
        "y_test = np.array(y_test)"
      ],
      "execution_count": 58,
      "outputs": []
    },
    {
      "cell_type": "code",
      "metadata": {
        "id": "DDu08TgRloyS",
        "outputId": "4aea3c20-7899-48ce-8fc3-6a5127b161cb",
        "colab": {
          "base_uri": "https://localhost:8080/"
        }
      },
      "source": [
        "# Show the structure of the training dataset\n",
        "(unique, counts) = np.unique(y_train, return_counts=True)\n",
        "frequencies = np.asarray((unique, counts)).T\n",
        "print('Number of training examples of the original dataset: ' + str(X_train.shape[0]))\n",
        "print('Structure of the training dataset')\n",
        "print(frequencies)\n",
        "\n",
        "# Show the structure of the test dataset\n",
        "(unique, counts) = np.unique(y_test, return_counts=True)\n",
        "frequencies = np.asarray((unique, counts)).T\n",
        "print('\\nNumber of test examples of the original dataset: ' + str(X_test.shape[0]))\n",
        "print('Structure of the test dataset')\n",
        "print(frequencies)"
      ],
      "execution_count": 59,
      "outputs": [
        {
          "output_type": "stream",
          "name": "stdout",
          "text": [
            "Number of training examples of the original dataset: 1437\n",
            "Structure of the training dataset\n",
            "[[  0 139]\n",
            " [  1 148]\n",
            " [  2 141]\n",
            " [  3 150]\n",
            " [  4 139]\n",
            " [  5 145]\n",
            " [  6 138]\n",
            " [  7 148]\n",
            " [  8 137]\n",
            " [  9 152]]\n",
            "\n",
            "Number of test examples of the original dataset: 360\n",
            "Structure of the test dataset\n",
            "[[ 0 39]\n",
            " [ 1 34]\n",
            " [ 2 36]\n",
            " [ 3 33]\n",
            " [ 4 42]\n",
            " [ 5 37]\n",
            " [ 6 43]\n",
            " [ 7 31]\n",
            " [ 8 37]\n",
            " [ 9 28]]\n"
          ]
        }
      ]
    },
    {
      "cell_type": "code",
      "metadata": {
        "id": "_75zVP94XiAO"
      },
      "source": [
        "# Relabel the dataset to have only an one-class classification \n",
        "# Label 0 -> 0, 2, 3, 4, 5, 6, 7, 8, 9\n",
        "# Label 1 -> 1\n",
        "y_train = np.where(y_train == 1, y_train, 0)\n",
        "y_test = np.where(y_test == 1, y_test, 0)"
      ],
      "execution_count": 60,
      "outputs": []
    },
    {
      "cell_type": "code",
      "metadata": {
        "id": "rvC655IQXiRP",
        "colab": {
          "base_uri": "https://localhost:8080/"
        },
        "outputId": "e65a575d-63cd-4e26-a470-6ff7ae26e0b0"
      },
      "source": [
        "# Show the structure of the training dataset\n",
        "(unique, counts) = np.unique(y_train, return_counts=True)\n",
        "frequencies = np.asarray((unique, counts)).T\n",
        "print('Number of training examples of the modified dataset: ' + str(X_train.shape[0]))\n",
        "print('Structure of the training dataset')\n",
        "print(frequencies)\n",
        "\n",
        "# Show the structure of the test dataset\n",
        "(unique, counts) = np.unique(y_test, return_counts=True)\n",
        "frequencies = np.asarray((unique, counts)).T\n",
        "print('\\nNumber of test examples of the modified dataset: ' + str(X_test.shape[0]))\n",
        "print('Structure of the test dataset')\n",
        "print(frequencies)\n",
        "\n",
        "# Show the image size\n",
        "print('\\nEach image has the size: (' + str(int(X_train.shape[1]/8)) + ', ' + str(int(X_train.shape[1]/8)) + ', 1)')\n",
        "print('--> Equal to ' + str(int(X_train.shape[1]*X_train.shape[1]*1/64)) + ' pixels')"
      ],
      "execution_count": 61,
      "outputs": [
        {
          "output_type": "stream",
          "name": "stdout",
          "text": [
            "Number of training examples of the modified dataset: 1437\n",
            "Structure of the training dataset\n",
            "[[   0 1289]\n",
            " [   1  148]]\n",
            "\n",
            "Number of test examples of the modified dataset: 360\n",
            "Structure of the test dataset\n",
            "[[  0 326]\n",
            " [  1  34]]\n",
            "\n",
            "Each image has the size: (8, 8, 1)\n",
            "--> Equal to 64 pixels\n"
          ]
        }
      ]
    },
    {
      "cell_type": "code",
      "metadata": {
        "id": "mtP5wST4m_It",
        "colab": {
          "base_uri": "https://localhost:8080/",
          "height": 265
        },
        "outputId": "2da2af99-071e-4ab9-d3f2-a92a4edf089e"
      },
      "source": [
        "# Show a random image of the test dataset\n",
        "plt.imshow(digits.images[0]);"
      ],
      "execution_count": 40,
      "outputs": [
        {
          "output_type": "display_data",
          "data": {
            "image/png": "[encoded data removed]",
            "text/plain": [
              "<Figure size 432x288 with 1 Axes>"
            ]
          },
          "metadata": {
            "needs_background": "light"
          }
        }
      ]
    },
    {
      "cell_type": "code",
      "metadata": {
        "colab": {
          "base_uri": "https://localhost:8080/"
        },
        "id": "NxVkEnTLPRU3",
        "outputId": "b614811a-a31f-4862-9a3b-9da7b9ab7ba4"
      },
      "source": [
        "# Reshape the dataset \n",
        "X_train_flatten = X_train.reshape(X_train.shape[0], -1).T\n",
        "X_test_flatten = X_test.reshape(X_test.shape[0], -1).T\n",
        "y_train = y_train.reshape((1, y_train.shape[0]))\n",
        "y_test = y_test.reshape((1, y_test.shape[0]))\n",
        "\n",
        "# Show the shapes of the dataset\n",
        "print('Shape of x_train: ' + str(X_train_flatten.shape))\n",
        "print('Shape of x_test: ' + str(X_test_flatten.shape))\n",
        "print('Shape of y_train: ' + str(y_train.shape))\n",
        "print('Shape of y_test: ' + str(y_test.shape))"
      ],
      "execution_count": 62,
      "outputs": [
        {
          "output_type": "stream",
          "name": "stdout",
          "text": [
            "Shape of x_train: (64, 1437)\n",
            "Shape of x_test: (64, 360)\n",
            "Shape of y_train: (1, 1437)\n",
            "Shape of y_test: (1, 360)\n"
          ]
        }
      ]
    },
    {
      "cell_type": "code",
      "metadata": {
        "id": "-kEvz7rFPRc5"
      },
      "source": [
        "# Standardize the data to have feature values between 0 and 1.\n",
        "X_train_standardize = X_train_flatten/255.\n",
        "X_test_standardize = X_test_flatten/255."
      ],
      "execution_count": 63,
      "outputs": []
    },
    {
      "cell_type": "markdown",
      "metadata": {
        "id": "8tRgxMNnjwWn"
      },
      "source": [
        "### **2-Layer Neural Network**"
      ]
    },
    {
      "cell_type": "code",
      "metadata": {
        "id": "KYoxikZIbXho",
        "outputId": "360d6695-d058-4872-dd43-00c4835ca56b",
        "colab": {
          "base_uri": "https://localhost:8080/",
          "height": 1000
        }
      },
      "source": [
        "# Define variables to save the results and the parameters\n",
        "parameters_2L_cache = []\n",
        "pred_train_2L_cache = []\n",
        "pred_test_2L_cache = []\n",
        "\n",
        "for neurons_L1 in range(1, X_train_flatten.shape[0]+1, 10):\n",
        "  #for learning_Rate in np.arange (0.001, 0.02, 0.001): #\n",
        "    # Train the Neural Network\n",
        "    layers_dims = [X_train_flatten.shape[0], neurons_L1 ,1]\n",
        "    parameters = L_layer_model(X_train_standardize, y_train, layers_dims, learning_rate = 1,  num_iterations = 2500, print_cost = True)\n",
        "\n",
        "    # Make the prediction with the training dataset\n",
        "    pred_train, acurracy_train = predict(X_train_standardize, y_train, parameters, True)\n",
        "\n",
        "    # Make the prediction with the training dataset\n",
        "    pred_test, acurracy_test = predict(X_test_standardize, y_test, parameters, False)\n",
        "\n",
        "    # Save parameters and results\n",
        "    parameters_2L_cache.append(layers_dims)\n",
        "    pred_train_2L_cache.append(acurracy_train)\n",
        "    pred_test_2L_cache.append(acurracy_test)"
      ],
      "execution_count": 68,
      "outputs": [
        {
          "output_type": "stream",
          "name": "stdout",
          "text": [
            "Layer dimensions: [64, 1, 1]\n",
            "Learning Rate   : 1\n",
            "Cost after iteration 0: 0.693183\n",
            "Cost after iteration 100: 0.331609\n",
            "Cost after iteration 200: 0.331609\n",
            "Cost after iteration 300: 0.331609\n",
            "Cost after iteration 400: 0.331609\n",
            "Cost after iteration 500: 0.331609\n",
            "Cost after iteration 600: 0.331609\n",
            "Cost after iteration 700: 0.331609\n",
            "Cost after iteration 800: 0.331609\n",
            "Cost after iteration 900: 0.331609\n",
            "Cost after iteration 1000: 0.331609\n",
            "Cost after iteration 1100: 0.331609\n",
            "Cost after iteration 1200: 0.331609\n",
            "Cost after iteration 1300: 0.331609\n",
            "Cost after iteration 1400: 0.331609\n",
            "Cost after iteration 1500: 0.331609\n",
            "Cost after iteration 1600: 0.331609\n",
            "Cost after iteration 1700: 0.331609\n",
            "Cost after iteration 1800: 0.331609\n",
            "Cost after iteration 1900: 0.331609\n",
            "Cost after iteration 2000: 0.331609\n",
            "Cost after iteration 2100: 0.331609\n",
            "Cost after iteration 2200: 0.331609\n",
            "Cost after iteration 2300: 0.331609\n",
            "Cost after iteration 2400: 0.331609\n"
          ]
        },
        {
          "output_type": "display_data",
          "data": {
            "image/png": "[encoded data removed]",
            "text/plain": [
              "<Figure size 432x288 with 1 Axes>"
            ]
          },
          "metadata": {
            "needs_background": "light"
          }
        },
        {
          "output_type": "stream",
          "name": "stdout",
          "text": [
            "Accuracy of the training set: 0.8970076548364648\n",
            "Accuracy of the test set:     0.9055555555555556\n",
            "\n",
            "Layer dimensions: [64, 11, 1]\n",
            "Learning Rate   : 1\n",
            "Cost after iteration 0: 0.688756\n",
            "Cost after iteration 100: 0.318513\n",
            "Cost after iteration 200: 0.276622\n",
            "Cost after iteration 300: 0.206269\n",
            "Cost after iteration 400: 0.176246\n",
            "Cost after iteration 500: 0.153527\n",
            "Cost after iteration 600: 0.135057\n",
            "Cost after iteration 700: 0.119131\n",
            "Cost after iteration 800: 0.106264\n",
            "Cost after iteration 900: 0.096925\n",
            "Cost after iteration 1000: 0.089982\n",
            "Cost after iteration 1100: 0.083345\n",
            "Cost after iteration 1200: 0.080917\n",
            "Cost after iteration 1300: 0.071194\n",
            "Cost after iteration 1400: 0.124293\n",
            "Cost after iteration 1500: 0.058527\n",
            "Cost after iteration 1600: 0.056323\n",
            "Cost after iteration 1700: 0.054388\n",
            "Cost after iteration 1800: 0.052711\n",
            "Cost after iteration 1900: 0.090653\n",
            "Cost after iteration 2000: 0.051253\n",
            "Cost after iteration 2100: 0.049783\n",
            "Cost after iteration 2200: 0.048464\n",
            "Cost after iteration 2300: 0.047259\n",
            "Cost after iteration 2400: 0.046147\n"
          ]
        },
        {
          "output_type": "display_data",
          "data": {
            "image/png": "[encoded data removed]",
            "text/plain": [
              "<Figure size 432x288 with 1 Axes>"
            ]
          },
          "metadata": {
            "needs_background": "light"
          }
        },
        {
          "output_type": "stream",
          "name": "stdout",
          "text": [
            "Accuracy of the training set: 0.9610299234516354\n",
            "Accuracy of the test set:     0.9583333333333334\n",
            "\n",
            "Layer dimensions: [64, 21, 1]\n",
            "Learning Rate   : 1\n",
            "Cost after iteration 0: 0.683738\n",
            "Cost after iteration 100: 0.318167\n",
            "Cost after iteration 200: 0.276743\n",
            "Cost after iteration 300: 0.213164\n",
            "Cost after iteration 400: 0.218060\n",
            "Cost after iteration 500: 0.189561\n",
            "Cost after iteration 600: 0.158928\n",
            "Cost after iteration 700: 0.133679\n",
            "Cost after iteration 800: 0.115833\n",
            "Cost after iteration 900: 0.103259\n",
            "Cost after iteration 1000: 0.095075\n",
            "Cost after iteration 1100: 0.087054\n",
            "Cost after iteration 1200: 0.082941\n",
            "Cost after iteration 1300: 0.075815\n",
            "Cost after iteration 1400: 0.101855\n",
            "Cost after iteration 1500: 0.058336\n",
            "Cost after iteration 1600: 0.056162\n",
            "Cost after iteration 1700: 0.170442\n",
            "Cost after iteration 1800: 0.053855\n",
            "Cost after iteration 1900: 0.052100\n",
            "Cost after iteration 2000: 0.050544\n",
            "Cost after iteration 2100: 0.049139\n",
            "Cost after iteration 2200: 0.047868\n",
            "Cost after iteration 2300: 0.049268\n",
            "Cost after iteration 2400: 0.047471\n"
          ]
        },
        {
          "output_type": "display_data",
          "data": {
            "image/png": "[encoded data removed]",
            "text/plain": [
              "<Figure size 432x288 with 1 Axes>"
            ]
          },
          "metadata": {
            "needs_background": "light"
          }
        },
        {
          "output_type": "stream",
          "name": "stdout",
          "text": [
            "Accuracy of the training set: 0.9596381350034795\n",
            "Accuracy of the test set:     0.9583333333333334\n",
            "\n",
            "Layer dimensions: [64, 31, 1]\n",
            "Learning Rate   : 1\n",
            "Cost after iteration 0: 0.691490\n",
            "Cost after iteration 100: 0.317395\n",
            "Cost after iteration 200: 0.272745\n",
            "Cost after iteration 300: 0.193194\n",
            "Cost after iteration 400: 0.171777\n",
            "Cost after iteration 500: 0.148944\n",
            "Cost after iteration 600: 0.130111\n",
            "Cost after iteration 700: 0.114380\n",
            "Cost after iteration 800: 0.102500\n",
            "Cost after iteration 900: 0.093963\n",
            "Cost after iteration 1000: 0.087667\n",
            "Cost after iteration 1100: 0.081754\n",
            "Cost after iteration 1200: 0.077851\n",
            "Cost after iteration 1300: 0.073929\n",
            "Cost after iteration 1400: 0.073125\n",
            "Cost after iteration 1500: 0.059316\n",
            "Cost after iteration 1600: 0.062712\n",
            "Cost after iteration 1700: 0.054939\n",
            "Cost after iteration 1800: 0.053088\n",
            "Cost after iteration 1900: 0.051448\n",
            "Cost after iteration 2000: 0.049959\n",
            "Cost after iteration 2100: 0.048595\n",
            "Cost after iteration 2200: 0.048056\n",
            "Cost after iteration 2300: 0.048163\n",
            "Cost after iteration 2400: 0.046656\n"
          ]
        },
        {
          "output_type": "display_data",
          "data": {
            "image/png": "[encoded data removed]",
            "text/plain": [
              "<Figure size 432x288 with 1 Axes>"
            ]
          },
          "metadata": {
            "needs_background": "light"
          }
        },
        {
          "output_type": "stream",
          "name": "stdout",
          "text": [
            "Accuracy of the training set: 0.9610299234516354\n",
            "Accuracy of the test set:     0.9638888888888889\n",
            "\n",
            "Layer dimensions: [64, 41, 1]\n",
            "Learning Rate   : 1\n",
            "Cost after iteration 0: 0.702064\n",
            "Cost after iteration 100: 0.316047\n",
            "Cost after iteration 200: 0.269002\n",
            "Cost after iteration 300: 0.188082\n",
            "Cost after iteration 400: 0.170353\n",
            "Cost after iteration 500: 0.147653\n",
            "Cost after iteration 600: 0.128917\n",
            "Cost after iteration 700: 0.113344\n",
            "Cost after iteration 800: 0.101945\n",
            "Cost after iteration 900: 0.093275\n",
            "Cost after iteration 1000: 0.087337\n",
            "Cost after iteration 1100: 0.081064\n",
            "Cost after iteration 1200: 0.079793\n",
            "Cost after iteration 1300: 0.068296\n",
            "Cost after iteration 1400: 0.084961\n",
            "Cost after iteration 1500: 0.058534\n",
            "Cost after iteration 1600: 0.056388\n",
            "Cost after iteration 1700: 0.054485\n",
            "Cost after iteration 1800: 0.052764\n",
            "Cost after iteration 1900: 0.051365\n",
            "Cost after iteration 2000: 0.052529\n",
            "Cost after iteration 2100: 0.049988\n",
            "Cost after iteration 2200: 0.048639\n",
            "Cost after iteration 2300: 0.047410\n",
            "Cost after iteration 2400: 0.046277\n"
          ]
        },
        {
          "output_type": "display_data",
          "data": {
            "image/png": "[encoded data removed]",
            "text/plain": [
              "<Figure size 432x288 with 1 Axes>"
            ]
          },
          "metadata": {
            "needs_background": "light"
          }
        },
        {
          "output_type": "stream",
          "name": "stdout",
          "text": [
            "Accuracy of the training set: 0.9603340292275575\n",
            "Accuracy of the test set:     0.9583333333333334\n",
            "\n",
            "Layer dimensions: [64, 51, 1]\n",
            "Learning Rate   : 1\n",
            "Cost after iteration 0: 0.690543\n",
            "Cost after iteration 100: 0.313337\n",
            "Cost after iteration 200: 0.260894\n",
            "Cost after iteration 300: 0.197441\n",
            "Cost after iteration 400: 0.168576\n",
            "Cost after iteration 500: 0.146040\n",
            "Cost after iteration 600: 0.127304\n",
            "Cost after iteration 700: 0.112657\n",
            "Cost after iteration 800: 0.101539\n",
            "Cost after iteration 900: 0.092908\n",
            "Cost after iteration 1000: 0.086774\n",
            "Cost after iteration 1100: 0.082753\n",
            "Cost after iteration 1200: 0.077507\n",
            "Cost after iteration 1300: 0.070577\n",
            "Cost after iteration 1400: 0.087334\n",
            "Cost after iteration 1500: 0.057964\n",
            "Cost after iteration 1600: 0.055794\n",
            "Cost after iteration 1700: 0.053871\n",
            "Cost after iteration 1800: 0.055222\n",
            "Cost after iteration 1900: 0.052074\n",
            "Cost after iteration 2000: 0.050456\n",
            "Cost after iteration 2100: 0.049015\n",
            "Cost after iteration 2200: 0.047698\n",
            "Cost after iteration 2300: 0.046479\n",
            "Cost after iteration 2400: 0.045381\n"
          ]
        },
        {
          "output_type": "display_data",
          "data": {
            "image/png": "[encoded data removed]",
            "text/plain": [
              "<Figure size 432x288 with 1 Axes>"
            ]
          },
          "metadata": {
            "needs_background": "light"
          }
        },
        {
          "output_type": "stream",
          "name": "stdout",
          "text": [
            "Accuracy of the training set: 0.9498956158663884\n",
            "Accuracy of the test set:     0.9611111111111111\n",
            "\n",
            "Layer dimensions: [64, 61, 1]\n",
            "Learning Rate   : 1\n",
            "Cost after iteration 0: 0.704496\n",
            "Cost after iteration 100: 0.312700\n",
            "Cost after iteration 200: 0.258222\n",
            "Cost after iteration 300: 0.197074\n",
            "Cost after iteration 400: 0.166560\n",
            "Cost after iteration 500: 0.144564\n",
            "Cost after iteration 600: 0.126297\n",
            "Cost after iteration 700: 0.111294\n",
            "Cost after iteration 800: 0.100232\n",
            "Cost after iteration 900: 0.092110\n",
            "Cost after iteration 1000: 0.086047\n",
            "Cost after iteration 1100: 0.080811\n",
            "Cost after iteration 1200: 0.077369\n",
            "Cost after iteration 1300: 0.072489\n",
            "Cost after iteration 1400: 0.060468\n",
            "Cost after iteration 1500: 0.140636\n",
            "Cost after iteration 1600: 0.056224\n",
            "Cost after iteration 1700: 0.054292\n",
            "Cost after iteration 1800: 0.052560\n",
            "Cost after iteration 1900: 0.051077\n",
            "Cost after iteration 2000: 0.209150\n",
            "Cost after iteration 2100: 0.049544\n",
            "Cost after iteration 2200: 0.048169\n",
            "Cost after iteration 2300: 0.046919\n",
            "Cost after iteration 2400: 0.045761\n"
          ]
        },
        {
          "output_type": "display_data",
          "data": {
            "image/png": "[encoded data removed]",
            "text/plain": [
              "<Figure size 432x288 with 1 Axes>"
            ]
          },
          "metadata": {
            "needs_background": "light"
          }
        },
        {
          "output_type": "stream",
          "name": "stdout",
          "text": [
            "Accuracy of the training set: 0.9603340292275575\n",
            "Accuracy of the test set:     0.9583333333333334\n",
            "\n"
          ]
        }
      ]
    },
    {
      "cell_type": "markdown",
      "metadata": {
        "id": "tnTvt19N6IgW"
      },
      "source": [
        "### **3-Layer Neural Network**"
      ]
    },
    {
      "cell_type": "code",
      "metadata": {
        "id": "ipaBYRY-3mFP"
      },
      "source": [
        "# Define variables to save the results and the parameters\n",
        "parameters_3L_cache = []\n",
        "pred_train_3L_cache = []\n",
        "pred_test_3L_cache = []\n",
        "\n",
        "for neurons_L2 in range(1, X_train_flatten.shape[0]+1, 10):\n",
        "  for neurons_L1 in range(1, X_train_flatten.shape[0]+1, 10):\n",
        "    # Train the Neural Network\n",
        "    layers_dims = [x_train_flatten.shape[0], neurons_L1, neurons_L2 ,1]\n",
        "    parameters = L_layer_model(x_train_standardize, y_train, layers_dims, num_iterations = 2500, print_cost = True)\n",
        "\n",
        "    # Make the prediction with the training dataset\n",
        "    pred_train, acurracy_train = predict(X_train_standardize, y_train, parameters, True)\n",
        "\n",
        "    # Make the prediction with the training dataset\n",
        "    pred_test, acurracy_test = predict(X_test_standardize, y_test, parameters, False)\n",
        "\n",
        "    # Save parameters and results\n",
        "    parameters_3L_cache.append(layers_dims)\n",
        "    pred_train_3L_cache.append(acurracy_train)\n",
        "    pred_test_3L_cache.append(acurracy_test)"
      ],
      "execution_count": null,
      "outputs": []
    },
    {
      "cell_type": "markdown",
      "metadata": {
        "id": "0pmrNCWW5_kN"
      },
      "source": [
        "### **4-Layer Neural Network**"
      ]
    },
    {
      "cell_type": "code",
      "metadata": {
        "id": "UsDWfqDHd6Zr"
      },
      "source": [
        "# Define variables to save the results and the parameters\n",
        "parameters_4L_cache = []\n",
        "pred_train_4L_cache = []\n",
        "pred_test_4L_cache = []\n",
        "\n",
        "for neurons_L3 in range(1, X_train_flatten.shape[0]+1, 10):\n",
        "  for neurons_L2 in range(1, X_train_flatten.shape[0]+1, 10):\n",
        "    for neurons_L1 in range(1, X_train_flatten.shape[0]+1, 10):\n",
        "      # Train the Neural Network\n",
        "      layers_dims = [x_train_flatten.shape[0], neurons_L1, neurons_L2, neurons_L3 ,1]\n",
        "      parameters = L_layer_model(x_train_standardize, y_train, layers_dims, num_iterations = 2500, print_cost = True)\n",
        "\n",
        "      # Make the prediction with the training dataset\n",
        "      pred_train, acurracy_train = predict(X_train_standardize, y_train, parameters, True)\n",
        "\n",
        "      # Make the prediction with the training dataset\n",
        "      pred_test, acurracy_test = predict(X_test_standardize, y_test, parameters, False)\n",
        "\n",
        "      # Save parameters and results\n",
        "      parameters_4L_cache.append(layers_dims)\n",
        "      pred_train_4L_cache.append(acurracy_train)\n",
        "      pred_test_4L_cache.append(acurracy_test)"
      ],
      "execution_count": null,
      "outputs": []
    },
    {
      "cell_type": "code",
      "metadata": {
        "id": "c5nEGS0SDNvV",
        "colab": {
          "base_uri": "https://localhost:8080/",
          "height": 241
        },
        "outputId": "7587dc88-f84d-4a22-b924-bb311a0d8a2b"
      },
      "source": [
        "plotAcurracy(pred_train_2L_cache, pred_test_2L_cache, '2-Layer Neural Network Acurracy')\n",
        "#plotAcurracy(pred_train_3L_cache, pred_test_3L_cache, '3-Layer Neural Network Acurracy')"
      ],
      "execution_count": 67,
      "outputs": [
        {
          "output_type": "display_data",
          "data": {
            "image/png": "[encoded data removed]",
            "text/plain": [
              "<Figure size 1152x216 with 1 Axes>"
            ]
          },
          "metadata": {
            "needs_background": "light"
          }
        }
      ]
    }
  ]
}