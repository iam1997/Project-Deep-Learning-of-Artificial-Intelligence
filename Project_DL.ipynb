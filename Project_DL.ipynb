{
  "nbformat": 4,
  "nbformat_minor": 0,
  "metadata": {
    "colab": {
      "name": "Project_DL.ipynb",
      "provenance": [],
      "authorship_tag": "ABX9TyNtzaDJG+BEuy4ycyQyFKfq",
      "include_colab_link": true
    },
    "kernelspec": {
      "name": "python3",
      "display_name": "Python 3"
    },
    "language_info": {
      "name": "python"
    }
  },
  "cells": [
    {
      "cell_type": "markdown",
      "metadata": {
        "id": "view-in-github",
        "colab_type": "text"
      },
      "source": [
        "<a href=\"https://colab.research.google.com/github/iam1997/Project-Deep-Learning-of-Artificial-Intelligence/blob/main/Project_DL.ipynb\" target=\"_parent\"><img src=\"https://colab.research.google.com/assets/colab-badge.svg\" alt=\"Open In Colab\"/></a>"
      ]
    },
    {
      "cell_type": "code",
      "metadata": {
        "id": "3MsmRBMxJTlc"
      },
      "source": [
        "# Import Libraries\n",
        "import tensorflow as tf\n",
        "import numpy as np\n",
        "import matplotlib.pyplot as plt\n",
        "import random"
      ],
      "execution_count": 83,
      "outputs": []
    },
    {
      "cell_type": "code",
      "metadata": {
        "id": "S-yG_sSeloWy"
      },
      "source": [
        "# Import the MNIST-Dataset\n",
        "(x_train, y_train), (x_test, y_test) = tf.keras.datasets.mnist.load_data()"
      ],
      "execution_count": 69,
      "outputs": []
    },
    {
      "cell_type": "code",
      "metadata": {
        "id": "Vos2GPdtd09o"
      },
      "source": [
        "# Convert the tuples to numpy arrays\n",
        "x_train = np.array(x_train)\n",
        "x_test = np.array(x_test)\n",
        "y_train = np.array(y_train)\n",
        "y_test = np.array(y_test)"
      ],
      "execution_count": 70,
      "outputs": []
    },
    {
      "cell_type": "code",
      "metadata": {
        "id": "DDu08TgRloyS",
        "outputId": "38f40f8d-2164-477e-db6b-f3f77335c5e2",
        "colab": {
          "base_uri": "https://localhost:8080/"
        }
      },
      "source": [
        "# Show the structure of the training dataset\n",
        "(unique, counts) = np.unique(y_train, return_counts=True)\n",
        "frequencies = np.asarray((unique, counts)).T\n",
        "print('Structure of the training dataset')\n",
        "print(frequencies)\n",
        "\n",
        "# Show the structure of the test dataset\n",
        "(unique, counts) = np.unique(y_test, return_counts=True)\n",
        "frequencies = np.asarray((unique, counts)).T\n",
        "print('\\nStructure of the test dataset')\n",
        "print(frequencies)"
      ],
      "execution_count": 71,
      "outputs": [
        {
          "output_type": "stream",
          "name": "stdout",
          "text": [
            "Structure of the training dataset\n",
            "[[   0 5923]\n",
            " [   1 6742]\n",
            " [   2 5958]\n",
            " [   3 6131]\n",
            " [   4 5842]\n",
            " [   5 5421]\n",
            " [   6 5918]\n",
            " [   7 6265]\n",
            " [   8 5851]\n",
            " [   9 5949]]\n",
            "\n",
            "Structure of the test dataset\n",
            "[[   0  980]\n",
            " [   1 1135]\n",
            " [   2 1032]\n",
            " [   3 1010]\n",
            " [   4  982]\n",
            " [   5  892]\n",
            " [   6  958]\n",
            " [   7 1028]\n",
            " [   8  974]\n",
            " [   9 1009]]\n"
          ]
        }
      ]
    },
    {
      "cell_type": "code",
      "metadata": {
        "id": "_75zVP94XiAO"
      },
      "source": [
        "# !! The execution of this cell takes about 4 to 5 minutes\n",
        "# Remove images with labels 2 to 9 and the corresponding labels of the training dataset to have only a One-Class-Classification\n",
        "getIndexToRemove = []\n",
        "for getIndex in range(len(y_train)):\n",
        "  if y_train[getIndex] != 0 and y_train[getIndex] != 1:\n",
        "    getIndexToRemove.append(getIndex)     \n",
        "\n",
        "for removeIndex in reversed(getIndexToRemove):\n",
        "  x_train = np.delete(x_train, removeIndex, axis=0)\n",
        "  y_train = np.delete(y_train, removeIndex)\n",
        "\n",
        "# Remove images with labels 2 to 9 and the corresponding labels of the test dataset to have only a One-Class-Classification\n",
        "getIndexToRemove = []\n",
        "for getIndex in range(len(y_test)):\n",
        "  if y_test[getIndex] != 0 and y_test[getIndex] != 1:\n",
        "    getIndexToRemove.append(getIndex)     \n",
        "\n",
        "for removeIndex in reversed(getIndexToRemove):\n",
        "  x_test = np.delete(x_test, removeIndex, axis=0)\n",
        "  y_test = np.delete(y_test, removeIndex)"
      ],
      "execution_count": null,
      "outputs": []
    },
    {
      "cell_type": "code",
      "metadata": {
        "id": "rvC655IQXiRP",
        "outputId": "f8033aee-5e57-481c-a57f-c0c6d525f08b",
        "colab": {
          "base_uri": "https://localhost:8080/"
        }
      },
      "source": [
        "# Show the structure of the training dataset\n",
        "(unique, counts) = np.unique(y_train, return_counts=True)\n",
        "frequencies = np.asarray((unique, counts)).T\n",
        "print('Structure of the training dataset')\n",
        "print(frequencies)\n",
        "\n",
        "# Show the structure of the test dataset\n",
        "(unique, counts) = np.unique(y_test, return_counts=True)\n",
        "frequencies = np.asarray((unique, counts)).T\n",
        "print('\\nStructure of the test dataset')\n",
        "print(frequencies)"
      ],
      "execution_count": 74,
      "outputs": [
        {
          "output_type": "stream",
          "name": "stdout",
          "text": [
            "Structure of the training dataset\n",
            "[[   0 5923]\n",
            " [   1 6742]]\n",
            "\n",
            "Structure of the test dataset\n",
            "[[   0  980]\n",
            " [   1 1135]]\n"
          ]
        }
      ]
    },
    {
      "cell_type": "code",
      "metadata": {
        "id": "mtP5wST4m_It",
        "outputId": "a86b11ba-5baf-42b8-d1b3-68c0850fd023",
        "colab": {
          "base_uri": "https://localhost:8080/",
          "height": 265
        }
      },
      "source": [
        "# Show a random image of the test dataset\n",
        "plt.imshow(x_test[random.randint(0, x_test.shape[0]-1)]);"
      ],
      "execution_count": 97,
      "outputs": [
        {
          "output_type": "display_data",
          "data": {
            "image/png": "[encoded data removed]",
            "text/plain": [
              "<Figure size 432x288 with 1 Axes>"
            ]
          },
          "metadata": {
            "needs_background": "light"
          }
        }
      ]
    }
  ]
}